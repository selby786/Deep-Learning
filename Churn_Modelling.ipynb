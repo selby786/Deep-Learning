{
  "nbformat": 4,
  "nbformat_minor": 0,
  "metadata": {
    "colab": {
      "name": "project",
      "provenance": [],
      "collapsed_sections": []
    },
    "kernelspec": {
      "name": "python3",
      "display_name": "Python 3"
    },
    "language_info": {
      "name": "python"
    }
  },
  "cells": [
    {
      "cell_type": "markdown",
      "metadata": {
        "id": "2YK-MLI5DEEW"
      },
      "source": [
        "***GOAL:*** A bank is investigating a very high rate of customer leaving the bank. Our goal is to analyze the given dataset and predict which of the customers are more likely to leave the bank in the near future."
      ]
    },
    {
      "cell_type": "code",
      "metadata": {
        "id": "h_H0Ed0iDHqN"
      },
      "source": [
        "import numpy as np\n",
        "import pandas as pd \n",
        "import matplotlib.pyplot as plt\n",
        "import seaborn as sns\n",
        "import tensorflow as tf\n",
        "from scipy.stats import skew\n",
        "from sklearn.model_selection import train_test_split\n",
        "from sklearn.preprocessing import StandardScaler\n",
        "from sklearn.metrics import classification_report\n",
        "from tensorflow.keras.models import Sequential\n",
        "from tensorflow.keras.layers import Dense\n",
        "from sklearn.metrics import confusion_matrix\n",
        "import warnings\n",
        "warnings.filterwarnings('ignore')"
      ],
      "execution_count": null,
      "outputs": []
    },
    {
      "cell_type": "code",
      "metadata": {
        "id": "EvRKhsRIDN2P"
      },
      "source": [
        "df = pd.read_csv(\"/content/drive/MyDrive/Colab Notebooks/Churn_Modelling.csv\")"
      ],
      "execution_count": null,
      "outputs": []
    },
    {
      "cell_type": "markdown",
      "metadata": {
        "id": "9EjfDQWaEPif"
      },
      "source": [
        "#EDA and PREPROCESSING :"
      ]
    },
    {
      "cell_type": "code",
      "metadata": {
        "colab": {
          "base_uri": "https://localhost:8080/",
          "height": 204
        },
        "id": "Gf2CYFw6DdrG",
        "outputId": "5c8a5083-02ee-41de-ac31-60e02d8007ce"
      },
      "source": [
        "df.head()"
      ],
      "execution_count": null,
      "outputs": [
        {
          "output_type": "execute_result",
          "data": {
            "text/html": [
              "<div>\n",
              "<style scoped>\n",
              "    .dataframe tbody tr th:only-of-type {\n",
              "        vertical-align: middle;\n",
              "    }\n",
              "\n",
              "    .dataframe tbody tr th {\n",
              "        vertical-align: top;\n",
              "    }\n",
              "\n",
              "    .dataframe thead th {\n",
              "        text-align: right;\n",
              "    }\n",
              "</style>\n",
              "<table border=\"1\" class=\"dataframe\">\n",
              "  <thead>\n",
              "    <tr style=\"text-align: right;\">\n",
              "      <th></th>\n",
              "      <th>RowNumber</th>\n",
              "      <th>CustomerId</th>\n",
              "      <th>Surname</th>\n",
              "      <th>CreditScore</th>\n",
              "      <th>Geography</th>\n",
              "      <th>Gender</th>\n",
              "      <th>Age</th>\n",
              "      <th>Tenure</th>\n",
              "      <th>Balance</th>\n",
              "      <th>NumOfProducts</th>\n",
              "      <th>HasCrCard</th>\n",
              "      <th>IsActiveMember</th>\n",
              "      <th>EstimatedSalary</th>\n",
              "      <th>Exited</th>\n",
              "    </tr>\n",
              "  </thead>\n",
              "  <tbody>\n",
              "    <tr>\n",
              "      <th>0</th>\n",
              "      <td>1</td>\n",
              "      <td>15634602</td>\n",
              "      <td>Hargrave</td>\n",
              "      <td>619</td>\n",
              "      <td>France</td>\n",
              "      <td>Female</td>\n",
              "      <td>42</td>\n",
              "      <td>2</td>\n",
              "      <td>0.00</td>\n",
              "      <td>1</td>\n",
              "      <td>1</td>\n",
              "      <td>1</td>\n",
              "      <td>101348.88</td>\n",
              "      <td>1</td>\n",
              "    </tr>\n",
              "    <tr>\n",
              "      <th>1</th>\n",
              "      <td>2</td>\n",
              "      <td>15647311</td>\n",
              "      <td>Hill</td>\n",
              "      <td>608</td>\n",
              "      <td>Spain</td>\n",
              "      <td>Female</td>\n",
              "      <td>41</td>\n",
              "      <td>1</td>\n",
              "      <td>83807.86</td>\n",
              "      <td>1</td>\n",
              "      <td>0</td>\n",
              "      <td>1</td>\n",
              "      <td>112542.58</td>\n",
              "      <td>0</td>\n",
              "    </tr>\n",
              "    <tr>\n",
              "      <th>2</th>\n",
              "      <td>3</td>\n",
              "      <td>15619304</td>\n",
              "      <td>Onio</td>\n",
              "      <td>502</td>\n",
              "      <td>France</td>\n",
              "      <td>Female</td>\n",
              "      <td>42</td>\n",
              "      <td>8</td>\n",
              "      <td>159660.80</td>\n",
              "      <td>3</td>\n",
              "      <td>1</td>\n",
              "      <td>0</td>\n",
              "      <td>113931.57</td>\n",
              "      <td>1</td>\n",
              "    </tr>\n",
              "    <tr>\n",
              "      <th>3</th>\n",
              "      <td>4</td>\n",
              "      <td>15701354</td>\n",
              "      <td>Boni</td>\n",
              "      <td>699</td>\n",
              "      <td>France</td>\n",
              "      <td>Female</td>\n",
              "      <td>39</td>\n",
              "      <td>1</td>\n",
              "      <td>0.00</td>\n",
              "      <td>2</td>\n",
              "      <td>0</td>\n",
              "      <td>0</td>\n",
              "      <td>93826.63</td>\n",
              "      <td>0</td>\n",
              "    </tr>\n",
              "    <tr>\n",
              "      <th>4</th>\n",
              "      <td>5</td>\n",
              "      <td>15737888</td>\n",
              "      <td>Mitchell</td>\n",
              "      <td>850</td>\n",
              "      <td>Spain</td>\n",
              "      <td>Female</td>\n",
              "      <td>43</td>\n",
              "      <td>2</td>\n",
              "      <td>125510.82</td>\n",
              "      <td>1</td>\n",
              "      <td>1</td>\n",
              "      <td>1</td>\n",
              "      <td>79084.10</td>\n",
              "      <td>0</td>\n",
              "    </tr>\n",
              "  </tbody>\n",
              "</table>\n",
              "</div>"
            ],
            "text/plain": [
              "   RowNumber  CustomerId   Surname  ...  IsActiveMember EstimatedSalary Exited\n",
              "0          1    15634602  Hargrave  ...               1       101348.88      1\n",
              "1          2    15647311      Hill  ...               1       112542.58      0\n",
              "2          3    15619304      Onio  ...               0       113931.57      1\n",
              "3          4    15701354      Boni  ...               0        93826.63      0\n",
              "4          5    15737888  Mitchell  ...               1        79084.10      0\n",
              "\n",
              "[5 rows x 14 columns]"
            ]
          },
          "metadata": {
            "tags": []
          },
          "execution_count": 4
        }
      ]
    },
    {
      "cell_type": "code",
      "metadata": {
        "id": "nXm0ego-DhFA"
      },
      "source": [
        "df.drop([\"RowNumber\"], axis=1, inplace=True )"
      ],
      "execution_count": null,
      "outputs": []
    },
    {
      "cell_type": "code",
      "metadata": {
        "id": "9P-XdcGD9p-r"
      },
      "source": [
        "df.drop([\"CustomerId\"], axis=1, inplace=True )"
      ],
      "execution_count": null,
      "outputs": []
    },
    {
      "cell_type": "markdown",
      "metadata": {
        "id": "ufrT1sBIEEUT"
      },
      "source": [
        "Irrelevent colums RowNumber and CustomerID are dropped."
      ]
    },
    {
      "cell_type": "code",
      "metadata": {
        "colab": {
          "base_uri": "https://localhost:8080/"
        },
        "id": "2hP1d9Ac9nca",
        "outputId": "f83be648-46df-48f5-adbb-47cdc02979e4"
      },
      "source": [
        "df.shape"
      ],
      "execution_count": null,
      "outputs": [
        {
          "output_type": "execute_result",
          "data": {
            "text/plain": [
              "(10000, 12)"
            ]
          },
          "metadata": {
            "tags": []
          },
          "execution_count": 7
        }
      ]
    },
    {
      "cell_type": "code",
      "metadata": {
        "colab": {
          "base_uri": "https://localhost:8080/"
        },
        "id": "65EHmOKXD70h",
        "outputId": "6eedcf4b-fdf9-4f42-b374-57262361c7a4"
      },
      "source": [
        "df.info()"
      ],
      "execution_count": null,
      "outputs": [
        {
          "output_type": "stream",
          "text": [
            "<class 'pandas.core.frame.DataFrame'>\n",
            "RangeIndex: 10000 entries, 0 to 9999\n",
            "Data columns (total 12 columns):\n",
            " #   Column           Non-Null Count  Dtype  \n",
            "---  ------           --------------  -----  \n",
            " 0   Surname          10000 non-null  object \n",
            " 1   CreditScore      10000 non-null  int64  \n",
            " 2   Geography        10000 non-null  object \n",
            " 3   Gender           10000 non-null  object \n",
            " 4   Age              10000 non-null  int64  \n",
            " 5   Tenure           10000 non-null  int64  \n",
            " 6   Balance          10000 non-null  float64\n",
            " 7   NumOfProducts    10000 non-null  int64  \n",
            " 8   HasCrCard        10000 non-null  int64  \n",
            " 9   IsActiveMember   10000 non-null  int64  \n",
            " 10  EstimatedSalary  10000 non-null  float64\n",
            " 11  Exited           10000 non-null  int64  \n",
            "dtypes: float64(2), int64(7), object(3)\n",
            "memory usage: 937.6+ KB\n"
          ],
          "name": "stdout"
        }
      ]
    },
    {
      "cell_type": "code",
      "metadata": {
        "colab": {
          "base_uri": "https://localhost:8080/"
        },
        "id": "vh-m7RDOEZBO",
        "outputId": "1e04bee6-28f2-4a75-fc4b-0adc58303815"
      },
      "source": [
        "df.isnull().sum()"
      ],
      "execution_count": null,
      "outputs": [
        {
          "output_type": "execute_result",
          "data": {
            "text/plain": [
              "Surname            0\n",
              "CreditScore        0\n",
              "Geography          0\n",
              "Gender             0\n",
              "Age                0\n",
              "Tenure             0\n",
              "Balance            0\n",
              "NumOfProducts      0\n",
              "HasCrCard          0\n",
              "IsActiveMember     0\n",
              "EstimatedSalary    0\n",
              "Exited             0\n",
              "dtype: int64"
            ]
          },
          "metadata": {
            "tags": []
          },
          "execution_count": 9
        }
      ]
    },
    {
      "cell_type": "code",
      "metadata": {
        "colab": {
          "base_uri": "https://localhost:8080/"
        },
        "id": "zAdVsZPBH6xt",
        "outputId": "71d544bd-0158-4410-cc4f-b540a735594d"
      },
      "source": [
        "#Finding the special characters in the data frame \n",
        "df.isin(['?']).sum(axis=0)"
      ],
      "execution_count": null,
      "outputs": [
        {
          "output_type": "execute_result",
          "data": {
            "text/plain": [
              "Surname            0\n",
              "CreditScore        0\n",
              "Geography          0\n",
              "Gender             0\n",
              "Age                0\n",
              "Tenure             0\n",
              "Balance            0\n",
              "NumOfProducts      0\n",
              "HasCrCard          0\n",
              "IsActiveMember     0\n",
              "EstimatedSalary    0\n",
              "Exited             0\n",
              "dtype: int64"
            ]
          },
          "metadata": {
            "tags": []
          },
          "execution_count": 10
        }
      ]
    },
    {
      "cell_type": "markdown",
      "metadata": {
        "id": "jZw98shB-z6a"
      },
      "source": [
        "We can see that there are no null values in our dataset."
      ]
    },
    {
      "cell_type": "code",
      "metadata": {
        "id": "9L-UtNNGJsPJ"
      },
      "source": [
        "#Seprating numeric and categoric columns:\n",
        "df_num = df.select_dtypes(exclude=['object'])\n",
        "df_cat = df.select_dtypes(include=['object'])"
      ],
      "execution_count": null,
      "outputs": []
    },
    {
      "cell_type": "code",
      "metadata": {
        "colab": {
          "base_uri": "https://localhost:8080/",
          "height": 204
        },
        "id": "q2HFJnKHJsZ6",
        "outputId": "4ac86a2a-1139-47cd-9821-291aaf49232d"
      },
      "source": [
        "df_num.head()"
      ],
      "execution_count": null,
      "outputs": [
        {
          "output_type": "execute_result",
          "data": {
            "text/html": [
              "<div>\n",
              "<style scoped>\n",
              "    .dataframe tbody tr th:only-of-type {\n",
              "        vertical-align: middle;\n",
              "    }\n",
              "\n",
              "    .dataframe tbody tr th {\n",
              "        vertical-align: top;\n",
              "    }\n",
              "\n",
              "    .dataframe thead th {\n",
              "        text-align: right;\n",
              "    }\n",
              "</style>\n",
              "<table border=\"1\" class=\"dataframe\">\n",
              "  <thead>\n",
              "    <tr style=\"text-align: right;\">\n",
              "      <th></th>\n",
              "      <th>CreditScore</th>\n",
              "      <th>Age</th>\n",
              "      <th>Tenure</th>\n",
              "      <th>Balance</th>\n",
              "      <th>NumOfProducts</th>\n",
              "      <th>HasCrCard</th>\n",
              "      <th>IsActiveMember</th>\n",
              "      <th>EstimatedSalary</th>\n",
              "      <th>Exited</th>\n",
              "    </tr>\n",
              "  </thead>\n",
              "  <tbody>\n",
              "    <tr>\n",
              "      <th>0</th>\n",
              "      <td>619</td>\n",
              "      <td>42</td>\n",
              "      <td>2</td>\n",
              "      <td>0.00</td>\n",
              "      <td>1</td>\n",
              "      <td>1</td>\n",
              "      <td>1</td>\n",
              "      <td>101348.88</td>\n",
              "      <td>1</td>\n",
              "    </tr>\n",
              "    <tr>\n",
              "      <th>1</th>\n",
              "      <td>608</td>\n",
              "      <td>41</td>\n",
              "      <td>1</td>\n",
              "      <td>83807.86</td>\n",
              "      <td>1</td>\n",
              "      <td>0</td>\n",
              "      <td>1</td>\n",
              "      <td>112542.58</td>\n",
              "      <td>0</td>\n",
              "    </tr>\n",
              "    <tr>\n",
              "      <th>2</th>\n",
              "      <td>502</td>\n",
              "      <td>42</td>\n",
              "      <td>8</td>\n",
              "      <td>159660.80</td>\n",
              "      <td>3</td>\n",
              "      <td>1</td>\n",
              "      <td>0</td>\n",
              "      <td>113931.57</td>\n",
              "      <td>1</td>\n",
              "    </tr>\n",
              "    <tr>\n",
              "      <th>3</th>\n",
              "      <td>699</td>\n",
              "      <td>39</td>\n",
              "      <td>1</td>\n",
              "      <td>0.00</td>\n",
              "      <td>2</td>\n",
              "      <td>0</td>\n",
              "      <td>0</td>\n",
              "      <td>93826.63</td>\n",
              "      <td>0</td>\n",
              "    </tr>\n",
              "    <tr>\n",
              "      <th>4</th>\n",
              "      <td>850</td>\n",
              "      <td>43</td>\n",
              "      <td>2</td>\n",
              "      <td>125510.82</td>\n",
              "      <td>1</td>\n",
              "      <td>1</td>\n",
              "      <td>1</td>\n",
              "      <td>79084.10</td>\n",
              "      <td>0</td>\n",
              "    </tr>\n",
              "  </tbody>\n",
              "</table>\n",
              "</div>"
            ],
            "text/plain": [
              "   CreditScore  Age  Tenure  ...  IsActiveMember  EstimatedSalary  Exited\n",
              "0          619   42       2  ...               1        101348.88       1\n",
              "1          608   41       1  ...               1        112542.58       0\n",
              "2          502   42       8  ...               0        113931.57       1\n",
              "3          699   39       1  ...               0         93826.63       0\n",
              "4          850   43       2  ...               1         79084.10       0\n",
              "\n",
              "[5 rows x 9 columns]"
            ]
          },
          "metadata": {
            "tags": []
          },
          "execution_count": 12
        }
      ]
    },
    {
      "cell_type": "code",
      "metadata": {
        "colab": {
          "base_uri": "https://localhost:8080/",
          "height": 204
        },
        "id": "3OTrSeXlJz_8",
        "outputId": "774d24ef-b1fb-4274-c06b-b5657aed29fb"
      },
      "source": [
        "df_cat.head()"
      ],
      "execution_count": null,
      "outputs": [
        {
          "output_type": "execute_result",
          "data": {
            "text/html": [
              "<div>\n",
              "<style scoped>\n",
              "    .dataframe tbody tr th:only-of-type {\n",
              "        vertical-align: middle;\n",
              "    }\n",
              "\n",
              "    .dataframe tbody tr th {\n",
              "        vertical-align: top;\n",
              "    }\n",
              "\n",
              "    .dataframe thead th {\n",
              "        text-align: right;\n",
              "    }\n",
              "</style>\n",
              "<table border=\"1\" class=\"dataframe\">\n",
              "  <thead>\n",
              "    <tr style=\"text-align: right;\">\n",
              "      <th></th>\n",
              "      <th>Surname</th>\n",
              "      <th>Geography</th>\n",
              "      <th>Gender</th>\n",
              "    </tr>\n",
              "  </thead>\n",
              "  <tbody>\n",
              "    <tr>\n",
              "      <th>0</th>\n",
              "      <td>Hargrave</td>\n",
              "      <td>France</td>\n",
              "      <td>Female</td>\n",
              "    </tr>\n",
              "    <tr>\n",
              "      <th>1</th>\n",
              "      <td>Hill</td>\n",
              "      <td>Spain</td>\n",
              "      <td>Female</td>\n",
              "    </tr>\n",
              "    <tr>\n",
              "      <th>2</th>\n",
              "      <td>Onio</td>\n",
              "      <td>France</td>\n",
              "      <td>Female</td>\n",
              "    </tr>\n",
              "    <tr>\n",
              "      <th>3</th>\n",
              "      <td>Boni</td>\n",
              "      <td>France</td>\n",
              "      <td>Female</td>\n",
              "    </tr>\n",
              "    <tr>\n",
              "      <th>4</th>\n",
              "      <td>Mitchell</td>\n",
              "      <td>Spain</td>\n",
              "      <td>Female</td>\n",
              "    </tr>\n",
              "  </tbody>\n",
              "</table>\n",
              "</div>"
            ],
            "text/plain": [
              "    Surname Geography  Gender\n",
              "0  Hargrave    France  Female\n",
              "1      Hill     Spain  Female\n",
              "2      Onio    France  Female\n",
              "3      Boni    France  Female\n",
              "4  Mitchell     Spain  Female"
            ]
          },
          "metadata": {
            "tags": []
          },
          "execution_count": 13
        }
      ]
    },
    {
      "cell_type": "markdown",
      "metadata": {
        "id": "RPvUkw95KTZf"
      },
      "source": [
        "**CHECKING MULTICOLINEARITY :**"
      ]
    },
    {
      "cell_type": "code",
      "metadata": {
        "colab": {
          "base_uri": "https://localhost:8080/",
          "height": 559
        },
        "id": "FuatWoaJE7D8",
        "outputId": "6b0ab90a-2d03-43a2-cfe2-e692688bf25d"
      },
      "source": [
        "plt.figure(figsize=(8,8))\n",
        "sns.heatmap(df.corr(),annot=True)\n",
        "plt.show()"
      ],
      "execution_count": null,
      "outputs": [
        {
          "output_type": "display_data",
          "data": {
            "image/png": "[encoded data removed]",
            "text/plain": [
              "<Figure size 576x576 with 2 Axes>"
            ]
          },
          "metadata": {
            "tags": [],
            "needs_background": "light"
          }
        }
      ]
    },
    {
      "cell_type": "markdown",
      "metadata": {
        "id": "HOdXsIsr1mex"
      },
      "source": [
        "We can see that there is no significant multicolinearity between the coulmns.\n",
        "\n"
      ]
    },
    {
      "cell_type": "markdown",
      "metadata": {
        "id": "_d63Xl5DKkPX"
      },
      "source": [
        "**UNIVARIATE ANALYSIS**"
      ]
    },
    {
      "cell_type": "code",
      "metadata": {
        "colab": {
          "base_uri": "https://localhost:8080/",
          "height": 1000
        },
        "id": "xVxwrf1yHCjJ",
        "outputId": "b7d62396-6546-4870-a9fc-474f743d9732"
      },
      "source": [
        "for col in df_num:\n",
        "    plt.figure()\n",
        "    sns.boxplot(df_num[col])\n",
        "    plt.show()"
      ],
      "execution_count": null,
      "outputs": [
        {
          "output_type": "display_data",
          "data": {
            "image/png": "[encoded data removed]",
            "text/plain": [
              "<Figure size 432x288 with 1 Axes>"
            ]
          },
          "metadata": {
            "tags": [],
            "needs_background": "light"
          }
        },
        {
          "output_type": "display_data",
          "data": {
            "image/png": "[encoded data removed]",
            "text/plain": [
              "<Figure size 432x288 with 1 Axes>"
            ]
          },
          "metadata": {
            "tags": [],
            "needs_background": "light"
          }
        },
        {
          "output_type": "display_data",
          "data": {
            "image/png": "[encoded data removed]",
            "text/plain": [
              "<Figure size 432x288 with 1 Axes>"
            ]
          },
          "metadata": {
            "tags": [],
            "needs_background": "light"
          }
        },
        {
          "output_type": "display_data",
          "data": {
            "image/png": "[encoded data removed]",
            "text/plain": [
              "<Figure size 432x288 with 1 Axes>"
            ]
          },
          "metadata": {
            "tags": [],
            "needs_background": "light"
          }
        },
        {
          "output_type": "display_data",
          "data": {
            "image/png": "[encoded data removed]",
            "text/plain": [
              "<Figure size 432x288 with 1 Axes>"
            ]
          },
          "metadata": {
            "tags": [],
            "needs_background": "light"
          }
        },
        {
          "output_type": "display_data",
          "data": {
            "image/png": "[encoded data removed]",
            "text/plain": [
              "<Figure size 432x288 with 1 Axes>"
            ]
          },
          "metadata": {
            "tags": [],
            "needs_background": "light"
          }
        },
        {
          "output_type": "display_data",
          "data": {
            "image/png": "[encoded data removed]",
            "text/plain": [
              "<Figure size 432x288 with 1 Axes>"
            ]
          },
          "metadata": {
            "tags": [],
            "needs_background": "light"
          }
        },
        {
          "output_type": "display_data",
          "data": {
            "image/png": "[encoded data removed]",
            "text/plain": [
              "<Figure size 432x288 with 1 Axes>"
            ]
          },
          "metadata": {
            "tags": [],
            "needs_background": "light"
          }
        },
        {
          "output_type": "display_data",
          "data": {
            "image/png": "[encoded data removed]",
            "text/plain": [
              "<Figure size 432x288 with 1 Axes>"
            ]
          },
          "metadata": {
            "tags": [],
            "needs_background": "light"
          }
        }
      ]
    },
    {
      "cell_type": "markdown",
      "metadata": {
        "id": "tyjRCBTxB_uS"
      },
      "source": [
        "There are outliers in CreditScore, Age and NumofProduct colums."
      ]
    },
    {
      "cell_type": "code",
      "metadata": {
        "colab": {
          "base_uri": "https://localhost:8080/",
          "height": 1000
        },
        "id": "IRyyjDDmHIut",
        "outputId": "a0bc0504-3ef4-457f-adda-683b3b604782"
      },
      "source": [
        "for col in df_num:\n",
        "    print(col,\"-\", skew(df_num[col]))\n",
        "    plt.figure()\n",
        "    sns.displot(df_num[col])\n",
        "    plt.show()"
      ],
      "execution_count": null,
      "outputs": [
        {
          "output_type": "stream",
          "text": [
            "CreditScore - -0.07159586676212397\n"
          ],
          "name": "stdout"
        },
        {
          "output_type": "display_data",
          "data": {
            "text/plain": [
              "<Figure size 432x288 with 0 Axes>"
            ]
          },
          "metadata": {
            "tags": []
          }
        },
        {
          "output_type": "display_data",
          "data": {
            "image/png": "[encoded data removed]",
            "text/plain": [
              "<Figure size 360x360 with 1 Axes>"
            ]
          },
          "metadata": {
            "tags": [],
            "needs_background": "light"
          }
        },
        {
          "output_type": "stream",
          "text": [
            "Age - 1.0111685586628079\n"
          ],
          "name": "stdout"
        },
        {
          "output_type": "display_data",
          "data": {
            "text/plain": [
              "<Figure size 432x288 with 0 Axes>"
            ]
          },
          "metadata": {
            "tags": []
          }
        },
        {
          "output_type": "display_data",
          "data": {
            "image/png": "[encoded data removed]",
            "text/plain": [
              "<Figure size 360x360 with 1 Axes>"
            ]
          },
          "metadata": {
            "tags": [],
            "needs_background": "light"
          }
        },
        {
          "output_type": "stream",
          "text": [
            "Tenure - 0.010989809189781041\n"
          ],
          "name": "stdout"
        },
        {
          "output_type": "display_data",
          "data": {
            "text/plain": [
              "<Figure size 432x288 with 0 Axes>"
            ]
          },
          "metadata": {
            "tags": []
          }
        },
        {
          "output_type": "display_data",
          "data": {
            "image/png": "[encoded data removed]",
            "text/plain": [
              "<Figure size 360x360 with 1 Axes>"
            ]
          },
          "metadata": {
            "tags": [],
            "needs_background": "light"
          }
        },
        {
          "output_type": "stream",
          "text": [
            "Balance - -0.14108754375291138\n"
          ],
          "name": "stdout"
        },
        {
          "output_type": "display_data",
          "data": {
            "text/plain": [
              "<Figure size 432x288 with 0 Axes>"
            ]
          },
          "metadata": {
            "tags": []
          }
        },
        {
          "output_type": "display_data",
          "data": {
            "image/png": "[encoded data removed]",
            "text/plain": [
              "<Figure size 360x360 with 1 Axes>"
            ]
          },
          "metadata": {
            "tags": [],
            "needs_background": "light"
          }
        },
        {
          "output_type": "stream",
          "text": [
            "NumOfProducts - 0.745456048438949\n"
          ],
          "name": "stdout"
        },
        {
          "output_type": "display_data",
          "data": {
            "text/plain": [
              "<Figure size 432x288 with 0 Axes>"
            ]
          },
          "metadata": {
            "tags": []
          }
        },
        {
          "output_type": "display_data",
          "data": {
            "image/png": "[encoded data removed]",
            "text/plain": [
              "<Figure size 360x360 with 1 Axes>"
            ]
          },
          "metadata": {
            "tags": [],
            "needs_background": "light"
          }
        },
        {
          "output_type": "stream",
          "text": [
            "HasCrCard - -0.9016763178640548\n"
          ],
          "name": "stdout"
        },
        {
          "output_type": "display_data",
          "data": {
            "text/plain": [
              "<Figure size 432x288 with 0 Axes>"
            ]
          },
          "metadata": {
            "tags": []
          }
        },
        {
          "output_type": "display_data",
          "data": {
            "image/png": "[encoded data removed]",
            "text/plain": [
              "<Figure size 360x360 with 1 Axes>"
            ]
          },
          "metadata": {
            "tags": [],
            "needs_background": "light"
          }
        },
        {
          "output_type": "stream",
          "text": [
            "IsActiveMember - -0.06042756246298516\n"
          ],
          "name": "stdout"
        },
        {
          "output_type": "display_data",
          "data": {
            "text/plain": [
              "<Figure size 432x288 with 0 Axes>"
            ]
          },
          "metadata": {
            "tags": []
          }
        },
        {
          "output_type": "display_data",
          "data": {
            "image/png": "[encoded data removed]",
            "text/plain": [
              "<Figure size 360x360 with 1 Axes>"
            ]
          },
          "metadata": {
            "tags": [],
            "needs_background": "light"
          }
        },
        {
          "output_type": "stream",
          "text": [
            "EstimatedSalary - 0.0020850448448748848\n"
          ],
          "name": "stdout"
        },
        {
          "output_type": "display_data",
          "data": {
            "text/plain": [
              "<Figure size 432x288 with 0 Axes>"
            ]
          },
          "metadata": {
            "tags": []
          }
        },
        {
          "output_type": "display_data",
          "data": {
            "image/png": "[encoded data removed]",
            "text/plain": [
              "<Figure size 360x360 with 1 Axes>"
            ]
          },
          "metadata": {
            "tags": [],
            "needs_background": "light"
          }
        },
        {
          "output_type": "stream",
          "text": [
            "Exited - 1.4713899141398699\n"
          ],
          "name": "stdout"
        },
        {
          "output_type": "display_data",
          "data": {
            "text/plain": [
              "<Figure size 432x288 with 0 Axes>"
            ]
          },
          "metadata": {
            "tags": []
          }
        },
        {
          "output_type": "display_data",
          "data": {
            "image/png": "[encoded data removed]",
            "text/plain": [
              "<Figure size 360x360 with 1 Axes>"
            ]
          },
          "metadata": {
            "tags": [],
            "needs_background": "light"
          }
        }
      ]
    },
    {
      "cell_type": "markdown",
      "metadata": {
        "id": "PPDzChUbYiZ6"
      },
      "source": [
        "**BIVARIATE ANALYSIS :**"
      ]
    },
    {
      "cell_type": "code",
      "metadata": {
        "colab": {
          "base_uri": "https://localhost:8080/",
          "height": 1000
        },
        "id": "-IHlb2dmOW1d",
        "outputId": "072da7a5-5f1c-4935-90e3-e518c3016e44"
      },
      "source": [
        "for col in df_num:\n",
        " plt.figure()\n",
        " sns.boxplot(x='Exited',y = df_num[col],data=df_num)\n",
        " plt.show()"
      ],
      "execution_count": null,
      "outputs": [
        {
          "output_type": "display_data",
          "data": {
            "image/png": "[encoded data removed]",
            "text/plain": [
              "<Figure size 432x288 with 1 Axes>"
            ]
          },
          "metadata": {
            "tags": [],
            "needs_background": "light"
          }
        },
        {
          "output_type": "display_data",
          "data": {
            "image/png": "[encoded data removed]",
            "text/plain": [
              "<Figure size 432x288 with 1 Axes>"
            ]
          },
          "metadata": {
            "tags": [],
            "needs_background": "light"
          }
        },
        {
          "output_type": "display_data",
          "data": {
            "image/png": "[encoded data removed]",
            "text/plain": [
              "<Figure size 432x288 with 1 Axes>"
            ]
          },
          "metadata": {
            "tags": [],
            "needs_background": "light"
          }
        },
        {
          "output_type": "display_data",
          "data": {
            "image/png": "[encoded data removed]",
            "text/plain": [
              "<Figure size 432x288 with 1 Axes>"
            ]
          },
          "metadata": {
            "tags": [],
            "needs_background": "light"
          }
        },
        {
          "output_type": "display_data",
          "data": {
            "image/png": "[encoded data removed]",
            "text/plain": [
              "<Figure size 432x288 with 1 Axes>"
            ]
          },
          "metadata": {
            "tags": [],
            "needs_background": "light"
          }
        },
        {
          "output_type": "display_data",
          "data": {
            "image/png": "[encoded data removed]",
            "text/plain": [
              "<Figure size 432x288 with 1 Axes>"
            ]
          },
          "metadata": {
            "tags": [],
            "needs_background": "light"
          }
        },
        {
          "output_type": "display_data",
          "data": {
            "image/png": "[encoded data removed]",
            "text/plain": [
              "<Figure size 432x288 with 1 Axes>"
            ]
          },
          "metadata": {
            "tags": [],
            "needs_background": "light"
          }
        },
        {
          "output_type": "display_data",
          "data": {
            "image/png": "[encoded data removed]",
            "text/plain": [
              "<Figure size 432x288 with 1 Axes>"
            ]
          },
          "metadata": {
            "tags": [],
            "needs_background": "light"
          }
        },
        {
          "output_type": "display_data",
          "data": {
            "image/png": "[encoded data removed]",
            "text/plain": [
              "<Figure size 432x288 with 1 Axes>"
            ]
          },
          "metadata": {
            "tags": [],
            "needs_background": "light"
          }
        }
      ]
    },
    {
      "cell_type": "markdown",
      "metadata": {
        "id": "Jah6oyZbRDY3"
      },
      "source": [
        "From the boxplots we can conclude that:\n",
        "\n",
        "1> There is no significant difference in the credit score distribution between retained and churned customers.\n",
        "\n",
        "2> Cutomers mostly between the age group of 35 to 50 are churning and those between 30 to 40 age group are not. The bank may need to review their target market or review the strategy for retention between the different age groups.\n",
        "\n",
        "3> Customers having shorter tenure period have stayed with the bank while those having a lager tenure period have Exited.\n",
        "\n",
        "4> The bank is losing customers with significant bank balances.\n",
        "\n",
        "5> NumOfProducts,\tHasCrCard,\tIsActiveMember and \tEstimatedSalary\tdo not have any significant relation with Customer churn.\n"
      ]
    },
    {
      "cell_type": "code",
      "metadata": {
        "colab": {
          "base_uri": "https://localhost:8080/",
          "height": 279
        },
        "id": "JX5A9gfSkDCP",
        "outputId": "8d05309d-5ec7-4fcb-a313-94f7afd3166f"
      },
      "source": [
        "plt.figure()\n",
        "sns.countplot('Geography', hue = 'Exited', data = df)\n",
        "plt.show()"
      ],
      "execution_count": null,
      "outputs": [
        {
          "output_type": "display_data",
          "data": {
            "image/png": "[encoded data removed]",
            "text/plain": [
              "<Figure size 432x288 with 1 Axes>"
            ]
          },
          "metadata": {
            "tags": [],
            "needs_background": "light"
          }
        }
      ]
    },
    {
      "cell_type": "code",
      "metadata": {
        "colab": {
          "base_uri": "https://localhost:8080/",
          "height": 279
        },
        "id": "8cH3wUlokzbC",
        "outputId": "9a5216b3-a219-4387-e71c-850a65abc3ab"
      },
      "source": [
        "plt.figure()\n",
        "sns.countplot('Gender', hue = 'Exited', data = df)\n",
        "plt.show()"
      ],
      "execution_count": null,
      "outputs": [
        {
          "output_type": "display_data",
          "data": {
            "image/png": "[encoded data removed]",
            "text/plain": [
              "<Figure size 432x288 with 1 Axes>"
            ]
          },
          "metadata": {
            "tags": [],
            "needs_background": "light"
          }
        }
      ]
    },
    {
      "cell_type": "markdown",
      "metadata": {
        "id": "_V_mcqc6mA4B"
      },
      "source": [
        "From the count plots we can conclude that :\n",
        "\n",
        "1> Of the three countries, Germany has the highest Churning rate where as France has the highest number of customer who stayed.\n",
        "\n",
        "2>The number of female customers churning is greater than that of male."
      ]
    },
    {
      "cell_type": "markdown",
      "metadata": {
        "id": "GE6rMpMqLIPA"
      },
      "source": [
        "**CHECKING COLUMNS FOR IMBALENCED DATA :**"
      ]
    },
    {
      "cell_type": "code",
      "metadata": {
        "colab": {
          "base_uri": "https://localhost:8080/",
          "height": 482
        },
        "id": "_xrsTOdeK9uQ",
        "outputId": "cb98f877-f75e-4128-c1c7-ca4c6035e22d"
      },
      "source": [
        "explode = (0, 0.1)\n",
        "plt.figure(figsize=(8,8))\n",
        "plt.pie(df_num['Exited'].value_counts(),labels=df_num['Exited'].unique(), explode = explode, autopct=\"%.1f%%\", startangle= 80)\n",
        "plt.title(col)\n",
        "plt.show()"
      ],
      "execution_count": null,
      "outputs": [
        {
          "output_type": "display_data",
          "data": {
            "image/png": "[encoded data removed]",
            "text/plain": [
              "<Figure size 576x576 with 1 Axes>"
            ]
          },
          "metadata": {
            "tags": []
          }
        }
      ]
    },
    {
      "cell_type": "markdown",
      "metadata": {
        "id": "Bk-6xEKSLeP0"
      },
      "source": [
        "We can see that there is imbalenced data in Exited column with almost 80 percent of customers churning and only 20 percent retained."
      ]
    },
    {
      "cell_type": "markdown",
      "metadata": {
        "id": "l4vGL6lnLo1M"
      },
      "source": [
        "#Lable Encoding :"
      ]
    },
    {
      "cell_type": "code",
      "metadata": {
        "id": "ZbNLGJBWLqW6"
      },
      "source": [
        "from sklearn.preprocessing import LabelEncoder\n",
        "for col in df_cat:\n",
        "    le = LabelEncoder()\n",
        "    df_cat[col] = le.fit_transform(df_cat[col])"
      ],
      "execution_count": null,
      "outputs": []
    },
    {
      "cell_type": "code",
      "metadata": {
        "id": "BHvPvzfpLw-O"
      },
      "source": [
        "#Concatenating the numeric and categoric columns\n",
        "df_new = pd.concat([df_num,df_cat], axis=1)"
      ],
      "execution_count": null,
      "outputs": []
    },
    {
      "cell_type": "code",
      "metadata": {
        "colab": {
          "base_uri": "https://localhost:8080/",
          "height": 204
        },
        "id": "xvwra_99L1uV",
        "outputId": "ee6bdba0-3d5d-43d4-cafd-4fbe8b5760a7"
      },
      "source": [
        "df_new.head()"
      ],
      "execution_count": null,
      "outputs": [
        {
          "output_type": "execute_result",
          "data": {
            "text/html": [
              "<div>\n",
              "<style scoped>\n",
              "    .dataframe tbody tr th:only-of-type {\n",
              "        vertical-align: middle;\n",
              "    }\n",
              "\n",
              "    .dataframe tbody tr th {\n",
              "        vertical-align: top;\n",
              "    }\n",
              "\n",
              "    .dataframe thead th {\n",
              "        text-align: right;\n",
              "    }\n",
              "</style>\n",
              "<table border=\"1\" class=\"dataframe\">\n",
              "  <thead>\n",
              "    <tr style=\"text-align: right;\">\n",
              "      <th></th>\n",
              "      <th>CreditScore</th>\n",
              "      <th>Age</th>\n",
              "      <th>Tenure</th>\n",
              "      <th>Balance</th>\n",
              "      <th>NumOfProducts</th>\n",
              "      <th>HasCrCard</th>\n",
              "      <th>IsActiveMember</th>\n",
              "      <th>EstimatedSalary</th>\n",
              "      <th>Exited</th>\n",
              "      <th>Surname</th>\n",
              "      <th>Geography</th>\n",
              "      <th>Gender</th>\n",
              "    </tr>\n",
              "  </thead>\n",
              "  <tbody>\n",
              "    <tr>\n",
              "      <th>0</th>\n",
              "      <td>619</td>\n",
              "      <td>42</td>\n",
              "      <td>2</td>\n",
              "      <td>0.00</td>\n",
              "      <td>1</td>\n",
              "      <td>1</td>\n",
              "      <td>1</td>\n",
              "      <td>101348.88</td>\n",
              "      <td>1</td>\n",
              "      <td>1115</td>\n",
              "      <td>0</td>\n",
              "      <td>0</td>\n",
              "    </tr>\n",
              "    <tr>\n",
              "      <th>1</th>\n",
              "      <td>608</td>\n",
              "      <td>41</td>\n",
              "      <td>1</td>\n",
              "      <td>83807.86</td>\n",
              "      <td>1</td>\n",
              "      <td>0</td>\n",
              "      <td>1</td>\n",
              "      <td>112542.58</td>\n",
              "      <td>0</td>\n",
              "      <td>1177</td>\n",
              "      <td>2</td>\n",
              "      <td>0</td>\n",
              "    </tr>\n",
              "    <tr>\n",
              "      <th>2</th>\n",
              "      <td>502</td>\n",
              "      <td>42</td>\n",
              "      <td>8</td>\n",
              "      <td>159660.80</td>\n",
              "      <td>3</td>\n",
              "      <td>1</td>\n",
              "      <td>0</td>\n",
              "      <td>113931.57</td>\n",
              "      <td>1</td>\n",
              "      <td>2040</td>\n",
              "      <td>0</td>\n",
              "      <td>0</td>\n",
              "    </tr>\n",
              "    <tr>\n",
              "      <th>3</th>\n",
              "      <td>699</td>\n",
              "      <td>39</td>\n",
              "      <td>1</td>\n",
              "      <td>0.00</td>\n",
              "      <td>2</td>\n",
              "      <td>0</td>\n",
              "      <td>0</td>\n",
              "      <td>93826.63</td>\n",
              "      <td>0</td>\n",
              "      <td>289</td>\n",
              "      <td>0</td>\n",
              "      <td>0</td>\n",
              "    </tr>\n",
              "    <tr>\n",
              "      <th>4</th>\n",
              "      <td>850</td>\n",
              "      <td>43</td>\n",
              "      <td>2</td>\n",
              "      <td>125510.82</td>\n",
              "      <td>1</td>\n",
              "      <td>1</td>\n",
              "      <td>1</td>\n",
              "      <td>79084.10</td>\n",
              "      <td>0</td>\n",
              "      <td>1822</td>\n",
              "      <td>2</td>\n",
              "      <td>0</td>\n",
              "    </tr>\n",
              "  </tbody>\n",
              "</table>\n",
              "</div>"
            ],
            "text/plain": [
              "   CreditScore  Age  Tenure    Balance  ...  Exited  Surname  Geography  Gender\n",
              "0          619   42       2       0.00  ...       1     1115          0       0\n",
              "1          608   41       1   83807.86  ...       0     1177          2       0\n",
              "2          502   42       8  159660.80  ...       1     2040          0       0\n",
              "3          699   39       1       0.00  ...       0      289          0       0\n",
              "4          850   43       2  125510.82  ...       0     1822          2       0\n",
              "\n",
              "[5 rows x 12 columns]"
            ]
          },
          "metadata": {
            "tags": []
          },
          "execution_count": 23
        }
      ]
    },
    {
      "cell_type": "code",
      "metadata": {
        "colab": {
          "base_uri": "https://localhost:8080/"
        },
        "id": "7ZAFiuSEL4Sj",
        "outputId": "637cb7c8-bdd5-4b57-cead-b024a470a261"
      },
      "source": [
        "df_new.shape"
      ],
      "execution_count": null,
      "outputs": [
        {
          "output_type": "execute_result",
          "data": {
            "text/plain": [
              "(10000, 12)"
            ]
          },
          "metadata": {
            "tags": []
          },
          "execution_count": 24
        }
      ]
    },
    {
      "cell_type": "code",
      "metadata": {
        "id": "0rK53w1IL6zq"
      },
      "source": [
        "y = df_new[[\"Exited\"]]\n",
        "X = df_new.drop([\"Exited\"],axis=1)"
      ],
      "execution_count": null,
      "outputs": []
    },
    {
      "cell_type": "code",
      "metadata": {
        "id": "c_K0wLYf49yC"
      },
      "source": [
        "for col in X:\n",
        "    if skew(X[col] >0.5) or skew(X[col] <-0.5):\n",
        "     X[col]= np.sqrt(X[col])"
      ],
      "execution_count": null,
      "outputs": []
    },
    {
      "cell_type": "code",
      "metadata": {
        "id": "mrkEzeQbNS5j"
      },
      "source": [
        "#Splitting training and testint data.\n",
        "X_train,X_test,y_train,y_test = train_test_split(X,y,test_size=0.3,random_state=1)"
      ],
      "execution_count": null,
      "outputs": []
    },
    {
      "cell_type": "code",
      "metadata": {
        "id": "hFZfKwjtNdPh"
      },
      "source": [
        "from sklearn.preprocessing import StandardScaler\n",
        "ss = StandardScaler()\n",
        "X_train_ss = ss.fit_transform(X_train)\n",
        "X_test_ss = ss.transform(X_test)"
      ],
      "execution_count": null,
      "outputs": []
    },
    {
      "cell_type": "markdown",
      "metadata": {
        "id": "TXtbDt1OvRgL"
      },
      "source": [
        "#BASELINE MODEL :"
      ]
    },
    {
      "cell_type": "code",
      "metadata": {
        "id": "7rSvJlfwwsa0"
      },
      "source": [
        "base_model = Sequential()\n",
        "base_model.add(Dense(16,input_shape=(X.shape[1],),activation = 'relu'))\n",
        "base_model.add(Dense(8,activation='relu'))\n",
        "base_model.add(Dense(4,activation='relu'))\n",
        "base_model.add(Dense(1,activation='sigmoid'))"
      ],
      "execution_count": null,
      "outputs": []
    },
    {
      "cell_type": "code",
      "metadata": {
        "colab": {
          "base_uri": "https://localhost:8080/"
        },
        "id": "4Xa3kXYJwsnX",
        "outputId": "f180a9c7-0d1d-49dd-b479-9df73259054e"
      },
      "source": [
        "base_model.summary()"
      ],
      "execution_count": null,
      "outputs": [
        {
          "output_type": "stream",
          "text": [
            "Model: \"sequential\"\n",
            "_________________________________________________________________\n",
            "Layer (type)                 Output Shape              Param #   \n",
            "=================================================================\n",
            "dense (Dense)                (None, 16)                192       \n",
            "_________________________________________________________________\n",
            "dense_1 (Dense)              (None, 8)                 136       \n",
            "_________________________________________________________________\n",
            "dense_2 (Dense)              (None, 4)                 36        \n",
            "_________________________________________________________________\n",
            "dense_3 (Dense)              (None, 1)                 5         \n",
            "=================================================================\n",
            "Total params: 369\n",
            "Trainable params: 369\n",
            "Non-trainable params: 0\n",
            "_________________________________________________________________\n"
          ],
          "name": "stdout"
        }
      ]
    },
    {
      "cell_type": "code",
      "metadata": {
        "id": "Eq6Du_fRwswh"
      },
      "source": [
        "base_model.compile(optimizer = 'adam', loss = 'binary_crossentropy')"
      ],
      "execution_count": null,
      "outputs": []
    },
    {
      "cell_type": "code",
      "metadata": {
        "colab": {
          "base_uri": "https://localhost:8080/"
        },
        "id": "UAIIyq3rws6_",
        "outputId": "80025b16-70bc-4e7e-b6c6-0264289595fa"
      },
      "source": [
        "base_model_history = base_model.fit(X_train_ss, y_train, epochs = 25, batch_size = 50)"
      ],
      "execution_count": null,
      "outputs": [
        {
          "output_type": "stream",
          "text": [
            "Epoch 1/25\n",
            "140/140 [==============================] - 1s 1ms/step - loss: 0.6152\n",
            "Epoch 2/25\n",
            "140/140 [==============================] - 0s 998us/step - loss: 0.4783\n",
            "Epoch 3/25\n",
            "140/140 [==============================] - 0s 1ms/step - loss: 0.4358\n",
            "Epoch 4/25\n",
            "140/140 [==============================] - 0s 1ms/step - loss: 0.4384\n",
            "Epoch 5/25\n",
            "140/140 [==============================] - 0s 1ms/step - loss: 0.4157\n",
            "Epoch 6/25\n",
            "140/140 [==============================] - 0s 998us/step - loss: 0.4184\n",
            "Epoch 7/25\n",
            "140/140 [==============================] - 0s 1ms/step - loss: 0.4132\n",
            "Epoch 8/25\n",
            "140/140 [==============================] - 0s 1ms/step - loss: 0.3923\n",
            "Epoch 9/25\n",
            "140/140 [==============================] - 0s 1ms/step - loss: 0.4045\n",
            "Epoch 10/25\n",
            "140/140 [==============================] - 0s 1000us/step - loss: 0.3841\n",
            "Epoch 11/25\n",
            "140/140 [==============================] - 0s 1ms/step - loss: 0.3909\n",
            "Epoch 12/25\n",
            "140/140 [==============================] - 0s 1ms/step - loss: 0.3812\n",
            "Epoch 13/25\n",
            "140/140 [==============================] - 0s 1ms/step - loss: 0.3590\n",
            "Epoch 14/25\n",
            "140/140 [==============================] - 0s 1ms/step - loss: 0.3621\n",
            "Epoch 15/25\n",
            "140/140 [==============================] - 0s 1ms/step - loss: 0.3503\n",
            "Epoch 16/25\n",
            "140/140 [==============================] - 0s 1ms/step - loss: 0.3523\n",
            "Epoch 17/25\n",
            "140/140 [==============================] - 0s 992us/step - loss: 0.3468\n",
            "Epoch 18/25\n",
            "140/140 [==============================] - 0s 1ms/step - loss: 0.3476\n",
            "Epoch 19/25\n",
            "140/140 [==============================] - 0s 1ms/step - loss: 0.3565\n",
            "Epoch 20/25\n",
            "140/140 [==============================] - 0s 1ms/step - loss: 0.3465\n",
            "Epoch 21/25\n",
            "140/140 [==============================] - 0s 995us/step - loss: 0.3439\n",
            "Epoch 22/25\n",
            "140/140 [==============================] - 0s 1ms/step - loss: 0.3508\n",
            "Epoch 23/25\n",
            "140/140 [==============================] - 0s 1ms/step - loss: 0.3357\n",
            "Epoch 24/25\n",
            "140/140 [==============================] - 0s 1ms/step - loss: 0.3446\n",
            "Epoch 25/25\n",
            "140/140 [==============================] - 0s 1ms/step - loss: 0.3443\n"
          ],
          "name": "stdout"
        }
      ]
    },
    {
      "cell_type": "code",
      "metadata": {
        "colab": {
          "base_uri": "https://localhost:8080/",
          "height": 282
        },
        "id": "nxMirZ5GwtDB",
        "outputId": "c37b41fa-04b1-4f6e-84f8-23d50d4374dd"
      },
      "source": [
        "plt.plot(base_model_history.history[\"loss\"])"
      ],
      "execution_count": null,
      "outputs": [
        {
          "output_type": "execute_result",
          "data": {
            "text/plain": [
              "[<matplotlib.lines.Line2D at 0x7fbb93b97090>]"
            ]
          },
          "metadata": {
            "tags": []
          },
          "execution_count": 33
        },
        {
          "output_type": "display_data",
          "data": {
            "image/png": "[encoded data removed]",
            "text/plain": [
              "<Figure size 432x288 with 1 Axes>"
            ]
          },
          "metadata": {
            "tags": [],
            "needs_background": "light"
          }
        }
      ]
    },
    {
      "cell_type": "code",
      "metadata": {
        "id": "1oQ9xwiKwtLq"
      },
      "source": [
        "y_pred_base = base_model.predict(X_test_ss)"
      ],
      "execution_count": null,
      "outputs": []
    },
    {
      "cell_type": "code",
      "metadata": {
        "id": "dDN7iHVgwtT7"
      },
      "source": [
        "y_pred_base = np.where(y_pred_base>0.5,1,0)"
      ],
      "execution_count": null,
      "outputs": []
    },
    {
      "cell_type": "code",
      "metadata": {
        "colab": {
          "base_uri": "https://localhost:8080/"
        },
        "id": "zKq4KUO00Tv2",
        "outputId": "f1a6dbe7-580e-43b0-b608-cda76d959e31"
      },
      "source": [
        "print(classification_report(y_test,y_pred_base))"
      ],
      "execution_count": null,
      "outputs": [
        {
          "output_type": "stream",
          "text": [
            "              precision    recall  f1-score   support\n",
            "\n",
            "           0       0.86      0.97      0.91      2373\n",
            "           1       0.80      0.42      0.55       627\n",
            "\n",
            "    accuracy                           0.86      3000\n",
            "   macro avg       0.83      0.70      0.73      3000\n",
            "weighted avg       0.85      0.86      0.84      3000\n",
            "\n"
          ],
          "name": "stdout"
        }
      ]
    },
    {
      "cell_type": "markdown",
      "metadata": {
        "id": "YMqC7Y_T_g0f"
      },
      "source": [
        "**Our main aim is to predict the customers that will possibly churn so that the bank can retain them. So if a customer who is going to chun, is wrongly predicted by the model as not going to churn, the bank wont make strategy to retain that customer and will lose him. Hence the False negative i.e. recall measures on the 1's is of more importance to us than the overall accuracy score of the model. For the base line model as we can see the value of recall is very low.**"
      ]
    },
    {
      "cell_type": "markdown",
      "metadata": {
        "id": "CCx38OYKN9N_"
      },
      "source": [
        "#Handeling imbalenced data"
      ]
    },
    {
      "cell_type": "markdown",
      "metadata": {
        "id": "DZr-s3K9OEyw"
      },
      "source": [
        "#Oversampling"
      ]
    },
    {
      "cell_type": "code",
      "metadata": {
        "id": "8gSkTnFXN1wb"
      },
      "source": [
        "from imblearn.over_sampling import RandomOverSampler"
      ],
      "execution_count": null,
      "outputs": []
    },
    {
      "cell_type": "code",
      "metadata": {
        "id": "6jUDiPZmOUZS"
      },
      "source": [
        "ros = RandomOverSampler(random_state=1)"
      ],
      "execution_count": null,
      "outputs": []
    },
    {
      "cell_type": "code",
      "metadata": {
        "id": "_V5HVbMGOZr_"
      },
      "source": [
        "X_sample_1 ,y_sample_1 = ros.fit_resample(X_train_ss,y_train)"
      ],
      "execution_count": null,
      "outputs": []
    },
    {
      "cell_type": "code",
      "metadata": {
        "colab": {
          "base_uri": "https://localhost:8080/"
        },
        "id": "lIIJhpeCOkP_",
        "outputId": "ca9e8b27-b2dd-49e5-dea6-eea3eb4693ab"
      },
      "source": [
        "pd.Series(y_sample_1).value_counts()"
      ],
      "execution_count": null,
      "outputs": [
        {
          "output_type": "execute_result",
          "data": {
            "text/plain": [
              "1    5590\n",
              "0    5590\n",
              "dtype: int64"
            ]
          },
          "metadata": {
            "tags": []
          },
          "execution_count": 40
        }
      ]
    },
    {
      "cell_type": "markdown",
      "metadata": {
        "id": "KMaiIBpRO_ZG"
      },
      "source": [
        "#Under Sampling"
      ]
    },
    {
      "cell_type": "code",
      "metadata": {
        "id": "e6Ol8DUCOr5c"
      },
      "source": [
        "from imblearn.under_sampling import RandomUnderSampler"
      ],
      "execution_count": null,
      "outputs": []
    },
    {
      "cell_type": "code",
      "metadata": {
        "id": "Mkb_89uUO26h"
      },
      "source": [
        "rus = RandomUnderSampler(random_state=1)"
      ],
      "execution_count": null,
      "outputs": []
    },
    {
      "cell_type": "code",
      "metadata": {
        "id": "zlUhpO7SPODX"
      },
      "source": [
        "X_sample_2, y_sample_2 = rus.fit_resample(X_train_ss, y_train)"
      ],
      "execution_count": null,
      "outputs": []
    },
    {
      "cell_type": "code",
      "metadata": {
        "id": "oHXVHEg1ZuNp"
      },
      "source": [
        "pd.Series(y_sample_2).value_counts()"
      ],
      "execution_count": null,
      "outputs": []
    },
    {
      "cell_type": "markdown",
      "metadata": {
        "id": "ByuC2QGLPmA9"
      },
      "source": [
        "#**ANN WITH OVERSAMPLING:**"
      ]
    },
    {
      "cell_type": "code",
      "metadata": {
        "id": "6fpHt2mvPtE2"
      },
      "source": [
        "model = Sequential()\n",
        "model.add(Dense(16,input_shape=(X.shape[1],), activation=\"relu\"))\n",
        "model.add(Dense(8, activation=\"relu\"))\n",
        "model.add(Dense(4,activation=\"relu\"))\n",
        "model.add(Dense(1,activation=\"sigmoid\"))"
      ],
      "execution_count": null,
      "outputs": []
    },
    {
      "cell_type": "code",
      "metadata": {
        "id": "pWsmZE3aQik5"
      },
      "source": [
        "model.compile(loss=\"binary_crossentropy\",optimizer=\"adam\")"
      ],
      "execution_count": null,
      "outputs": []
    },
    {
      "cell_type": "code",
      "metadata": {
        "colab": {
          "base_uri": "https://localhost:8080/"
        },
        "id": "NDTaBq9CJYuq",
        "outputId": "a6a50420-b76c-495a-a0da-a0cded41629a"
      },
      "source": [
        "model.summary()"
      ],
      "execution_count": null,
      "outputs": [
        {
          "output_type": "stream",
          "text": [
            "Model: \"sequential_1\"\n",
            "_________________________________________________________________\n",
            "Layer (type)                 Output Shape              Param #   \n",
            "=================================================================\n",
            "dense_4 (Dense)              (None, 16)                192       \n",
            "_________________________________________________________________\n",
            "dense_5 (Dense)              (None, 8)                 136       \n",
            "_________________________________________________________________\n",
            "dense_6 (Dense)              (None, 4)                 36        \n",
            "_________________________________________________________________\n",
            "dense_7 (Dense)              (None, 1)                 5         \n",
            "=================================================================\n",
            "Total params: 369\n",
            "Trainable params: 369\n",
            "Non-trainable params: 0\n",
            "_________________________________________________________________\n"
          ],
          "name": "stdout"
        }
      ]
    },
    {
      "cell_type": "code",
      "metadata": {
        "colab": {
          "base_uri": "https://localhost:8080/"
        },
        "id": "ZsOYqg7vQo2X",
        "outputId": "d74bb6ce-a084-449e-9585-0b26173196f0"
      },
      "source": [
        "history = model.fit(X_sample_1,y_sample_1,epochs=25,batch_size=50)"
      ],
      "execution_count": null,
      "outputs": [
        {
          "output_type": "stream",
          "text": [
            "Epoch 1/25\n",
            "224/224 [==============================] - 1s 1ms/step - loss: 0.6746\n",
            "Epoch 2/25\n",
            "224/224 [==============================] - 0s 1ms/step - loss: 0.5835\n",
            "Epoch 3/25\n",
            "224/224 [==============================] - 0s 1ms/step - loss: 0.5522\n",
            "Epoch 4/25\n",
            "224/224 [==============================] - 0s 1ms/step - loss: 0.5422\n",
            "Epoch 5/25\n",
            "224/224 [==============================] - 0s 1ms/step - loss: 0.5241\n",
            "Epoch 6/25\n",
            "224/224 [==============================] - 0s 1ms/step - loss: 0.5102\n",
            "Epoch 7/25\n",
            "224/224 [==============================] - 0s 1ms/step - loss: 0.5085\n",
            "Epoch 8/25\n",
            "224/224 [==============================] - 0s 1ms/step - loss: 0.5070\n",
            "Epoch 9/25\n",
            "224/224 [==============================] - 0s 1ms/step - loss: 0.4949\n",
            "Epoch 10/25\n",
            "224/224 [==============================] - 0s 1ms/step - loss: 0.4874\n",
            "Epoch 11/25\n",
            "224/224 [==============================] - 0s 1ms/step - loss: 0.4751\n",
            "Epoch 12/25\n",
            "224/224 [==============================] - 0s 1ms/step - loss: 0.4802\n",
            "Epoch 13/25\n",
            "224/224 [==============================] - 0s 1ms/step - loss: 0.4795\n",
            "Epoch 14/25\n",
            "224/224 [==============================] - 0s 1ms/step - loss: 0.4632\n",
            "Epoch 15/25\n",
            "224/224 [==============================] - 0s 1ms/step - loss: 0.4651\n",
            "Epoch 16/25\n",
            "224/224 [==============================] - 0s 1ms/step - loss: 0.4598\n",
            "Epoch 17/25\n",
            "224/224 [==============================] - 0s 1ms/step - loss: 0.4572\n",
            "Epoch 18/25\n",
            "224/224 [==============================] - 0s 1ms/step - loss: 0.4450\n",
            "Epoch 19/25\n",
            "224/224 [==============================] - 0s 1ms/step - loss: 0.4573\n",
            "Epoch 20/25\n",
            "224/224 [==============================] - 0s 1ms/step - loss: 0.4463\n",
            "Epoch 21/25\n",
            "224/224 [==============================] - 0s 1ms/step - loss: 0.4411\n",
            "Epoch 22/25\n",
            "224/224 [==============================] - 0s 1ms/step - loss: 0.4462\n",
            "Epoch 23/25\n",
            "224/224 [==============================] - 0s 1ms/step - loss: 0.4484\n",
            "Epoch 24/25\n",
            "224/224 [==============================] - 0s 1ms/step - loss: 0.4412\n",
            "Epoch 25/25\n",
            "224/224 [==============================] - 0s 1ms/step - loss: 0.4346\n"
          ],
          "name": "stdout"
        }
      ]
    },
    {
      "cell_type": "code",
      "metadata": {
        "colab": {
          "base_uri": "https://localhost:8080/",
          "height": 282
        },
        "id": "jIcU2rfrQ0HO",
        "outputId": "cd2c517f-2216-403a-c0ec-a9290d694c79"
      },
      "source": [
        "plt.plot(history.history[\"loss\"])"
      ],
      "execution_count": null,
      "outputs": [
        {
          "output_type": "execute_result",
          "data": {
            "text/plain": [
              "[<matplotlib.lines.Line2D at 0x7fbb9255ebd0>]"
            ]
          },
          "metadata": {
            "tags": []
          },
          "execution_count": 48
        },
        {
          "output_type": "display_data",
          "data": {
            "image/png": "[encoded data removed]",
            "text/plain": [
              "<Figure size 432x288 with 1 Axes>"
            ]
          },
          "metadata": {
            "tags": [],
            "needs_background": "light"
          }
        }
      ]
    },
    {
      "cell_type": "code",
      "metadata": {
        "id": "-a_Vz72YROkz"
      },
      "source": [
        "y_pred = model.predict(X_sample_1)"
      ],
      "execution_count": null,
      "outputs": []
    },
    {
      "cell_type": "code",
      "metadata": {
        "id": "-_TY2GtgRZhW"
      },
      "source": [
        "y_pred = np.where(y_pred >= 0.5, 1, 0)"
      ],
      "execution_count": null,
      "outputs": []
    },
    {
      "cell_type": "code",
      "metadata": {
        "colab": {
          "base_uri": "https://localhost:8080/"
        },
        "id": "IgPrvipZReLJ",
        "outputId": "91b2b26a-da42-417c-8747-d9a90e68e242"
      },
      "source": [
        "print(classification_report(y_sample_1,y_pred))"
      ],
      "execution_count": null,
      "outputs": [
        {
          "output_type": "stream",
          "text": [
            "              precision    recall  f1-score   support\n",
            "\n",
            "           0       0.81      0.79      0.80      5590\n",
            "           1       0.79      0.81      0.80      5590\n",
            "\n",
            "    accuracy                           0.80     11180\n",
            "   macro avg       0.80      0.80      0.80     11180\n",
            "weighted avg       0.80      0.80      0.80     11180\n",
            "\n"
          ],
          "name": "stdout"
        }
      ]
    },
    {
      "cell_type": "markdown",
      "metadata": {
        "id": "w4j5t-qaFG1W"
      },
      "source": [
        "**As we can see that the values of Precision, Recall and F1score have highly increased from that of the baseline model. Also Modelling with Oversamplling has given us a good recall of 81% which is the paramount for our Goal.**"
      ]
    },
    {
      "cell_type": "markdown",
      "metadata": {
        "id": "iogaoaEsRuot"
      },
      "source": [
        "#**ANN WITH UNDERSAMPLING :**"
      ]
    },
    {
      "cell_type": "code",
      "metadata": {
        "id": "7IdgILmUR-M1"
      },
      "source": [
        "model = Sequential()\n",
        "model.add(Dense(16,input_shape=(X.shape[1],), activation=\"relu\"))\n",
        "model.add(Dense(8, activation=\"relu\"))\n",
        "model.add(Dense(4,activation=\"relu\"))\n",
        "model.add(Dense(1,activation=\"sigmoid\"))"
      ],
      "execution_count": null,
      "outputs": []
    },
    {
      "cell_type": "code",
      "metadata": {
        "id": "kyXNG0saSEr0"
      },
      "source": [
        "model.compile(loss=\"binary_crossentropy\",optimizer=\"adam\")"
      ],
      "execution_count": null,
      "outputs": []
    },
    {
      "cell_type": "code",
      "metadata": {
        "colab": {
          "base_uri": "https://localhost:8080/"
        },
        "id": "ejoVwQSNSJ8A",
        "outputId": "0d678e3d-a8dc-45f5-a10e-4e4afad977d8"
      },
      "source": [
        "history = model.fit(X_sample_2,y_sample_2,epochs=25,batch_size=50)"
      ],
      "execution_count": null,
      "outputs": [
        {
          "output_type": "stream",
          "text": [
            "Epoch 1/25\n",
            "57/57 [==============================] - 0s 1ms/step - loss: 0.6979\n",
            "Epoch 2/25\n",
            "57/57 [==============================] - 0s 1ms/step - loss: 0.6663\n",
            "Epoch 3/25\n",
            "57/57 [==============================] - 0s 1ms/step - loss: 0.6308\n",
            "Epoch 4/25\n",
            "57/57 [==============================] - 0s 1ms/step - loss: 0.6084\n",
            "Epoch 5/25\n",
            "57/57 [==============================] - 0s 1ms/step - loss: 0.5924\n",
            "Epoch 6/25\n",
            "57/57 [==============================] - 0s 1ms/step - loss: 0.5657\n",
            "Epoch 7/25\n",
            "57/57 [==============================] - 0s 1ms/step - loss: 0.5575\n",
            "Epoch 8/25\n",
            "57/57 [==============================] - 0s 1ms/step - loss: 0.5373\n",
            "Epoch 9/25\n",
            "57/57 [==============================] - 0s 1ms/step - loss: 0.5191\n",
            "Epoch 10/25\n",
            "57/57 [==============================] - 0s 2ms/step - loss: 0.5299\n",
            "Epoch 11/25\n",
            "57/57 [==============================] - 0s 1ms/step - loss: 0.5238\n",
            "Epoch 12/25\n",
            "57/57 [==============================] - 0s 1ms/step - loss: 0.5077\n",
            "Epoch 13/25\n",
            "57/57 [==============================] - 0s 1ms/step - loss: 0.4992\n",
            "Epoch 14/25\n",
            "57/57 [==============================] - 0s 1ms/step - loss: 0.5288\n",
            "Epoch 15/25\n",
            "57/57 [==============================] - 0s 1ms/step - loss: 0.4946\n",
            "Epoch 16/25\n",
            "57/57 [==============================] - 0s 1ms/step - loss: 0.5138\n",
            "Epoch 17/25\n",
            "57/57 [==============================] - 0s 1ms/step - loss: 0.4940\n",
            "Epoch 18/25\n",
            "57/57 [==============================] - 0s 1ms/step - loss: 0.4852\n",
            "Epoch 19/25\n",
            "57/57 [==============================] - 0s 1ms/step - loss: 0.4761\n",
            "Epoch 20/25\n",
            "57/57 [==============================] - 0s 1ms/step - loss: 0.4900\n",
            "Epoch 21/25\n",
            "57/57 [==============================] - 0s 1ms/step - loss: 0.4908\n",
            "Epoch 22/25\n",
            "57/57 [==============================] - 0s 1ms/step - loss: 0.4683\n",
            "Epoch 23/25\n",
            "57/57 [==============================] - 0s 1ms/step - loss: 0.4778\n",
            "Epoch 24/25\n",
            "57/57 [==============================] - 0s 1ms/step - loss: 0.4860\n",
            "Epoch 25/25\n",
            "57/57 [==============================] - 0s 1ms/step - loss: 0.4772\n"
          ],
          "name": "stdout"
        }
      ]
    },
    {
      "cell_type": "code",
      "metadata": {
        "colab": {
          "base_uri": "https://localhost:8080/",
          "height": 285
        },
        "id": "QXK3-u9CST_v",
        "outputId": "ee69446b-5574-40a9-d32e-5456a34b2680"
      },
      "source": [
        "plt.plot(history.history[\"loss\"])"
      ],
      "execution_count": null,
      "outputs": [
        {
          "output_type": "execute_result",
          "data": {
            "text/plain": [
              "[<matplotlib.lines.Line2D at 0x7fbb857fa6d0>]"
            ]
          },
          "metadata": {
            "tags": []
          },
          "execution_count": 55
        },
        {
          "output_type": "display_data",
          "data": {
            "image/png": "[encoded data removed]",
            "text/plain": [
              "<Figure size 432x288 with 1 Axes>"
            ]
          },
          "metadata": {
            "tags": [],
            "needs_background": "light"
          }
        }
      ]
    },
    {
      "cell_type": "code",
      "metadata": {
        "id": "6Nn54Qb6Sc3G"
      },
      "source": [
        "y_pred = model.predict(X_sample_2)"
      ],
      "execution_count": null,
      "outputs": []
    },
    {
      "cell_type": "code",
      "metadata": {
        "id": "WktO8ytuSnzm"
      },
      "source": [
        "y_pred = np.where(y_pred >= 0.5, 1, 0)"
      ],
      "execution_count": null,
      "outputs": []
    },
    {
      "cell_type": "code",
      "metadata": {
        "colab": {
          "base_uri": "https://localhost:8080/"
        },
        "id": "6dUPNtk0Svjw",
        "outputId": "d8caa91a-e8fe-40d2-cb29-0c90e7c62ef1"
      },
      "source": [
        "print(classification_report(y_sample_2,y_pred))"
      ],
      "execution_count": null,
      "outputs": [
        {
          "output_type": "stream",
          "text": [
            "              precision    recall  f1-score   support\n",
            "\n",
            "           0       0.79      0.75      0.77      1410\n",
            "           1       0.76      0.80      0.78      1410\n",
            "\n",
            "    accuracy                           0.78      2820\n",
            "   macro avg       0.78      0.78      0.78      2820\n",
            "weighted avg       0.78      0.78      0.78      2820\n",
            "\n"
          ],
          "name": "stdout"
        }
      ]
    },
    {
      "cell_type": "markdown",
      "metadata": {
        "id": "s3auUgc2HsZH"
      },
      "source": [
        "**As we can see Modelling with Undersamplling is giving us better precision, recall and f1score than the Base model but, not as good as Modelling with Oversamplling.**"
      ]
    },
    {
      "cell_type": "markdown",
      "metadata": {
        "id": "cZCgsCk7TcNX"
      },
      "source": [
        "#***CONCLUSION***: \n",
        "**From the review of the fitted models above, the best model that gives a good trade off of the recall and precision is ANN WITH OVERSAMPLING, where we are getting a precision on 1's of 79 percent, recall of 81 percent, f1-score of 80 percent and accuracy of 80 percent. Out of all customers that the model thinks will churn, 81 percent do actually churn.** \n"
      ]
    }
  ]
}